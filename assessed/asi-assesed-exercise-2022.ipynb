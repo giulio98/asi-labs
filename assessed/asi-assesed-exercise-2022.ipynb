{
 "cells": [
  {
   "cell_type": "code",
   "execution_count": 1,
   "id": "a7d2a07f",
   "metadata": {
    "_cell_guid": "b1076dfc-b9ad-4769-8c92-a6c4dae69d19",
    "_uuid": "8f2839f25d086af736a60e9eeb907d3b93b6e0e5",
    "execution": {
     "iopub.execute_input": "2022-05-08T21:51:52.679029Z",
     "iopub.status.busy": "2022-05-08T21:51:52.678701Z",
     "iopub.status.idle": "2022-05-08T21:51:54.111171Z",
     "shell.execute_reply": "2022-05-08T21:51:54.109994Z"
    },
    "papermill": {
     "duration": 1.460443,
     "end_time": "2022-05-08T21:51:54.113612",
     "exception": false,
     "start_time": "2022-05-08T21:51:52.653169",
     "status": "completed"
    },
    "tags": []
   },
   "outputs": [
    {
     "name": "stdout",
     "output_type": "stream",
     "text": [
      "/kaggle/input/santander-customer-transaction-prediction/sample_submission.csv\n",
      "/kaggle/input/santander-customer-transaction-prediction/train.csv\n",
      "/kaggle/input/santander-customer-transaction-prediction/test.csv\n"
     ]
    }
   ],
   "source": [
    "# This Python 3 environment comes with many helpful analytics libraries installed\n",
    "# It is defined by the kaggle/python Docker image: https://github.com/kaggle/docker-python\n",
    "# For example, here's several helpful packages to load\n",
    "\n",
    "import numpy as np # linear algebra\n",
    "import pandas as pd # data processing, CSV file I/O (e.g. pd.read_csv)\n",
    "from sklearn.model_selection import train_test_split\n",
    "import matplotlib.pyplot as plt\n",
    "import seaborn as sns\n",
    "from scipy.stats import multivariate_normal\n",
    "from scipy import stats\n",
    "from sklearn.decomposition import PCA\n",
    "\n",
    "\n",
    "# Input data files are available in the read-only \"../input/\" directory\n",
    "# For example, running this (by clicking run or pressing Shift+Enter) will list all files under the input directory\n",
    "\n",
    "import os\n",
    "for dirname, _, filenames in os.walk('/kaggle/input'):\n",
    "    for filename in filenames:\n",
    "        print(os.path.join(dirname, filename))\n",
    "\n",
    "# You can write up to 20GB to the current directory (/kaggle/working/) that gets preserved as output when you create a version using \"Save & Run All\" \n",
    "# You can also write temporary files to /kaggle/temp/, but they won't be saved outside of the current session"
   ]
  },
  {
   "cell_type": "markdown",
   "id": "392ce21f",
   "metadata": {
    "papermill": {
     "duration": 0.022934,
     "end_time": "2022-05-08T21:51:54.160352",
     "exception": false,
     "start_time": "2022-05-08T21:51:54.137418",
     "status": "completed"
    },
    "tags": []
   },
   "source": [
    "**A.** (code) Download and import the Santander dataset. The labels of the test data are not publicly available, so create your own test set by randomly choosing half of the instances in the\n",
    "original training set."
   ]
  },
  {
   "cell_type": "code",
   "execution_count": 2,
   "id": "b8b67a77",
   "metadata": {
    "execution": {
     "iopub.execute_input": "2022-05-08T21:51:54.207608Z",
     "iopub.status.busy": "2022-05-08T21:51:54.207351Z",
     "iopub.status.idle": "2022-05-08T21:52:04.701834Z",
     "shell.execute_reply": "2022-05-08T21:52:04.701019Z"
    },
    "papermill": {
     "duration": 10.520989,
     "end_time": "2022-05-08T21:52:04.704285",
     "exception": false,
     "start_time": "2022-05-08T21:51:54.183296",
     "status": "completed"
    },
    "tags": []
   },
   "outputs": [
    {
     "data": {
      "text/html": [
       "<div>\n",
       "<style scoped>\n",
       "    .dataframe tbody tr th:only-of-type {\n",
       "        vertical-align: middle;\n",
       "    }\n",
       "\n",
       "    .dataframe tbody tr th {\n",
       "        vertical-align: top;\n",
       "    }\n",
       "\n",
       "    .dataframe thead th {\n",
       "        text-align: right;\n",
       "    }\n",
       "</style>\n",
       "<table border=\"1\" class=\"dataframe\">\n",
       "  <thead>\n",
       "    <tr style=\"text-align: right;\">\n",
       "      <th></th>\n",
       "      <th>ID_code</th>\n",
       "      <th>target</th>\n",
       "      <th>var_0</th>\n",
       "      <th>var_1</th>\n",
       "      <th>var_2</th>\n",
       "      <th>var_3</th>\n",
       "      <th>var_4</th>\n",
       "      <th>var_5</th>\n",
       "      <th>var_6</th>\n",
       "      <th>var_7</th>\n",
       "      <th>...</th>\n",
       "      <th>var_190</th>\n",
       "      <th>var_191</th>\n",
       "      <th>var_192</th>\n",
       "      <th>var_193</th>\n",
       "      <th>var_194</th>\n",
       "      <th>var_195</th>\n",
       "      <th>var_196</th>\n",
       "      <th>var_197</th>\n",
       "      <th>var_198</th>\n",
       "      <th>var_199</th>\n",
       "    </tr>\n",
       "  </thead>\n",
       "  <tbody>\n",
       "    <tr>\n",
       "      <th>0</th>\n",
       "      <td>train_0</td>\n",
       "      <td>0</td>\n",
       "      <td>8.9255</td>\n",
       "      <td>-6.7863</td>\n",
       "      <td>11.9081</td>\n",
       "      <td>5.0930</td>\n",
       "      <td>11.4607</td>\n",
       "      <td>-9.2834</td>\n",
       "      <td>5.1187</td>\n",
       "      <td>18.6266</td>\n",
       "      <td>...</td>\n",
       "      <td>4.4354</td>\n",
       "      <td>3.9642</td>\n",
       "      <td>3.1364</td>\n",
       "      <td>1.6910</td>\n",
       "      <td>18.5227</td>\n",
       "      <td>-2.3978</td>\n",
       "      <td>7.8784</td>\n",
       "      <td>8.5635</td>\n",
       "      <td>12.7803</td>\n",
       "      <td>-1.0914</td>\n",
       "    </tr>\n",
       "    <tr>\n",
       "      <th>1</th>\n",
       "      <td>train_1</td>\n",
       "      <td>0</td>\n",
       "      <td>11.5006</td>\n",
       "      <td>-4.1473</td>\n",
       "      <td>13.8588</td>\n",
       "      <td>5.3890</td>\n",
       "      <td>12.3622</td>\n",
       "      <td>7.0433</td>\n",
       "      <td>5.6208</td>\n",
       "      <td>16.5338</td>\n",
       "      <td>...</td>\n",
       "      <td>7.6421</td>\n",
       "      <td>7.7214</td>\n",
       "      <td>2.5837</td>\n",
       "      <td>10.9516</td>\n",
       "      <td>15.4305</td>\n",
       "      <td>2.0339</td>\n",
       "      <td>8.1267</td>\n",
       "      <td>8.7889</td>\n",
       "      <td>18.3560</td>\n",
       "      <td>1.9518</td>\n",
       "    </tr>\n",
       "    <tr>\n",
       "      <th>2</th>\n",
       "      <td>train_2</td>\n",
       "      <td>0</td>\n",
       "      <td>8.6093</td>\n",
       "      <td>-2.7457</td>\n",
       "      <td>12.0805</td>\n",
       "      <td>7.8928</td>\n",
       "      <td>10.5825</td>\n",
       "      <td>-9.0837</td>\n",
       "      <td>6.9427</td>\n",
       "      <td>14.6155</td>\n",
       "      <td>...</td>\n",
       "      <td>2.9057</td>\n",
       "      <td>9.7905</td>\n",
       "      <td>1.6704</td>\n",
       "      <td>1.6858</td>\n",
       "      <td>21.6042</td>\n",
       "      <td>3.1417</td>\n",
       "      <td>-6.5213</td>\n",
       "      <td>8.2675</td>\n",
       "      <td>14.7222</td>\n",
       "      <td>0.3965</td>\n",
       "    </tr>\n",
       "    <tr>\n",
       "      <th>3</th>\n",
       "      <td>train_3</td>\n",
       "      <td>0</td>\n",
       "      <td>11.0604</td>\n",
       "      <td>-2.1518</td>\n",
       "      <td>8.9522</td>\n",
       "      <td>7.1957</td>\n",
       "      <td>12.5846</td>\n",
       "      <td>-1.8361</td>\n",
       "      <td>5.8428</td>\n",
       "      <td>14.9250</td>\n",
       "      <td>...</td>\n",
       "      <td>4.4666</td>\n",
       "      <td>4.7433</td>\n",
       "      <td>0.7178</td>\n",
       "      <td>1.4214</td>\n",
       "      <td>23.0347</td>\n",
       "      <td>-1.2706</td>\n",
       "      <td>-2.9275</td>\n",
       "      <td>10.2922</td>\n",
       "      <td>17.9697</td>\n",
       "      <td>-8.9996</td>\n",
       "    </tr>\n",
       "    <tr>\n",
       "      <th>4</th>\n",
       "      <td>train_4</td>\n",
       "      <td>0</td>\n",
       "      <td>9.8369</td>\n",
       "      <td>-1.4834</td>\n",
       "      <td>12.8746</td>\n",
       "      <td>6.6375</td>\n",
       "      <td>12.2772</td>\n",
       "      <td>2.4486</td>\n",
       "      <td>5.9405</td>\n",
       "      <td>19.2514</td>\n",
       "      <td>...</td>\n",
       "      <td>-1.4905</td>\n",
       "      <td>9.5214</td>\n",
       "      <td>-0.1508</td>\n",
       "      <td>9.1942</td>\n",
       "      <td>13.2876</td>\n",
       "      <td>-1.5121</td>\n",
       "      <td>3.9267</td>\n",
       "      <td>9.5031</td>\n",
       "      <td>17.9974</td>\n",
       "      <td>-8.8104</td>\n",
       "    </tr>\n",
       "  </tbody>\n",
       "</table>\n",
       "<p>5 rows × 202 columns</p>\n",
       "</div>"
      ],
      "text/plain": [
       "   ID_code  target    var_0   var_1    var_2   var_3    var_4   var_5   var_6  \\\n",
       "0  train_0       0   8.9255 -6.7863  11.9081  5.0930  11.4607 -9.2834  5.1187   \n",
       "1  train_1       0  11.5006 -4.1473  13.8588  5.3890  12.3622  7.0433  5.6208   \n",
       "2  train_2       0   8.6093 -2.7457  12.0805  7.8928  10.5825 -9.0837  6.9427   \n",
       "3  train_3       0  11.0604 -2.1518   8.9522  7.1957  12.5846 -1.8361  5.8428   \n",
       "4  train_4       0   9.8369 -1.4834  12.8746  6.6375  12.2772  2.4486  5.9405   \n",
       "\n",
       "     var_7  ...  var_190  var_191  var_192  var_193  var_194  var_195  \\\n",
       "0  18.6266  ...   4.4354   3.9642   3.1364   1.6910  18.5227  -2.3978   \n",
       "1  16.5338  ...   7.6421   7.7214   2.5837  10.9516  15.4305   2.0339   \n",
       "2  14.6155  ...   2.9057   9.7905   1.6704   1.6858  21.6042   3.1417   \n",
       "3  14.9250  ...   4.4666   4.7433   0.7178   1.4214  23.0347  -1.2706   \n",
       "4  19.2514  ...  -1.4905   9.5214  -0.1508   9.1942  13.2876  -1.5121   \n",
       "\n",
       "   var_196  var_197  var_198  var_199  \n",
       "0   7.8784   8.5635  12.7803  -1.0914  \n",
       "1   8.1267   8.7889  18.3560   1.9518  \n",
       "2  -6.5213   8.2675  14.7222   0.3965  \n",
       "3  -2.9275  10.2922  17.9697  -8.9996  \n",
       "4   3.9267   9.5031  17.9974  -8.8104  \n",
       "\n",
       "[5 rows x 202 columns]"
      ]
     },
     "execution_count": 2,
     "metadata": {},
     "output_type": "execute_result"
    }
   ],
   "source": [
    "#Load the Data\n",
    "df = pd.read_csv('../input/santander-customer-transaction-prediction/train.csv')\n",
    "df.head()"
   ]
  },
  {
   "cell_type": "code",
   "execution_count": 3,
   "id": "e49201a6",
   "metadata": {
    "execution": {
     "iopub.execute_input": "2022-05-08T21:52:04.752670Z",
     "iopub.status.busy": "2022-05-08T21:52:04.752370Z",
     "iopub.status.idle": "2022-05-08T21:52:05.816799Z",
     "shell.execute_reply": "2022-05-08T21:52:05.816096Z"
    },
    "papermill": {
     "duration": 1.091443,
     "end_time": "2022-05-08T21:52:05.819269",
     "exception": false,
     "start_time": "2022-05-08T21:52:04.727826",
     "status": "completed"
    },
    "tags": []
   },
   "outputs": [],
   "source": [
    "# Split in train and test by randomly choosing half of the istances in the training set \n",
    "df, df_test = train_test_split(df, test_size=0.5, random_state=42)\n",
    "X_train = df.dropna().iloc[:, 2:].values\n",
    "y_train = df.dropna().iloc[:, 1].values\n",
    "X_test = df_test.dropna().iloc[:, 2:].values\n",
    "y_test = df_test.dropna().iloc[:, 1].values"
   ]
  },
  {
   "cell_type": "markdown",
   "id": "f7ae00b6",
   "metadata": {
    "papermill": {
     "duration": 0.023063,
     "end_time": "2022-05-08T21:52:05.865882",
     "exception": false,
     "start_time": "2022-05-08T21:52:05.842819",
     "status": "completed"
    },
    "tags": []
   },
   "source": [
    "**B.** (text) Comment on the distribution of class labels and the dimensionality of the input and how\n",
    "these may affect the analysis."
   ]
  },
  {
   "cell_type": "code",
   "execution_count": 4,
   "id": "8d8c513e",
   "metadata": {
    "execution": {
     "iopub.execute_input": "2022-05-08T21:52:05.914077Z",
     "iopub.status.busy": "2022-05-08T21:52:05.913783Z",
     "iopub.status.idle": "2022-05-08T21:52:05.920275Z",
     "shell.execute_reply": "2022-05-08T21:52:05.919205Z"
    },
    "papermill": {
     "duration": 0.033886,
     "end_time": "2022-05-08T21:52:05.923107",
     "exception": false,
     "start_time": "2022-05-08T21:52:05.889221",
     "status": "completed"
    },
    "tags": []
   },
   "outputs": [
    {
     "name": "stdout",
     "output_type": "stream",
     "text": [
      "Number of training samples: 100000\n",
      "Number of testing samples: 100000\n",
      "Shape input train: (100000, 200)\n",
      "Shape input test: (100000, 200)\n"
     ]
    }
   ],
   "source": [
    "print('Number of training samples: %s' % str(len(X_train)))\n",
    "print('Number of testing samples: %s' % str(len(X_test)))\n",
    "print('Shape input train: %s' % str(X_train.shape))\n",
    "print('Shape input test: %s' % str(X_test.shape))"
   ]
  },
  {
   "cell_type": "code",
   "execution_count": 5,
   "id": "cf804ca8",
   "metadata": {
    "execution": {
     "iopub.execute_input": "2022-05-08T21:52:05.973865Z",
     "iopub.status.busy": "2022-05-08T21:52:05.973424Z",
     "iopub.status.idle": "2022-05-08T21:52:06.174459Z",
     "shell.execute_reply": "2022-05-08T21:52:06.173609Z"
    },
    "papermill": {
     "duration": 0.228307,
     "end_time": "2022-05-08T21:52:06.176528",
     "exception": false,
     "start_time": "2022-05-08T21:52:05.948221",
     "status": "completed"
    },
    "tags": []
   },
   "outputs": [
    {
     "data": {
      "image/png": "[encoded data removed]",
      "text/plain": [
       "<Figure size 432x288 with 1 Axes>"
      ]
     },
     "metadata": {
      "needs_background": "light"
     },
     "output_type": "display_data"
    }
   ],
   "source": [
    "sns.countplot(x=df['target']);"
   ]
  },
  {
   "cell_type": "markdown",
   "id": "b2e14ee8",
   "metadata": {
    "papermill": {
     "duration": 0.024269,
     "end_time": "2022-05-08T21:52:06.225512",
     "exception": false,
     "start_time": "2022-05-08T21:52:06.201243",
     "status": "completed"
    },
    "tags": []
   },
   "source": [
    "# Add comment"
   ]
  },
  {
   "cell_type": "markdown",
   "id": "fb239c5b",
   "metadata": {
    "papermill": {
     "duration": 0.024429,
     "end_time": "2022-05-08T21:52:06.276569",
     "exception": false,
     "start_time": "2022-05-08T21:52:06.252140",
     "status": "completed"
    },
    "tags": []
   },
   "source": [
    "**A.** (code) Implement Bayesian linear regression"
   ]
  },
  {
   "cell_type": "code",
   "execution_count": 6,
   "id": "7cd5ae1f",
   "metadata": {
    "execution": {
     "iopub.execute_input": "2022-05-08T21:52:06.328159Z",
     "iopub.status.busy": "2022-05-08T21:52:06.327194Z",
     "iopub.status.idle": "2022-05-08T21:52:06.333066Z",
     "shell.execute_reply": "2022-05-08T21:52:06.332405Z"
    },
    "papermill": {
     "duration": 0.033841,
     "end_time": "2022-05-08T21:52:06.335110",
     "exception": false,
     "start_time": "2022-05-08T21:52:06.301269",
     "status": "completed"
    },
    "tags": []
   },
   "outputs": [],
   "source": [
    "def build_features(x, K):\n",
    "        X = np.ones(x.shape)\n",
    "        for k in range(1, K + 1):\n",
    "            X = np.column_stack((X, x ** k))\n",
    "        return X"
   ]
  },
  {
   "cell_type": "code",
   "execution_count": 7,
   "id": "921e8fba",
   "metadata": {
    "execution": {
     "iopub.execute_input": "2022-05-08T21:52:06.387703Z",
     "iopub.status.busy": "2022-05-08T21:52:06.386604Z",
     "iopub.status.idle": "2022-05-08T21:52:06.401372Z",
     "shell.execute_reply": "2022-05-08T21:52:06.400750Z"
    },
    "papermill": {
     "duration": 0.043202,
     "end_time": "2022-05-08T21:52:06.403553",
     "exception": false,
     "start_time": "2022-05-08T21:52:06.360351",
     "status": "completed"
    },
    "tags": []
   },
   "outputs": [],
   "source": [
    "def bayesian_linear_regression(x, y, xt, K, sn2, sw2):\n",
    "        \n",
    "    def compute_posterior(X, y, sw2, sn2):\n",
    "        _, cov_size = X.shape\n",
    "\n",
    "        S_inv = 1/sw2 * np.eye(cov_size)\n",
    "    \n",
    "        Sigma_inv = 1/sn2 * X.T @ X + S_inv\n",
    "        Sigma = np.linalg.inv(Sigma_inv)\n",
    "        w_posterior_cov = Sigma\n",
    "        w_posterior_mean = (1/sn2) * Sigma @ X.T @ y\n",
    "    \n",
    "        return (w_posterior_mean,  w_posterior_cov)\n",
    "    \n",
    "\n",
    "    def compute_predictive(Xt, w_mean, w_cov, sn2):\n",
    "        def _compute_predictive_single_point(xt_i, w_mean, w_cov, sn2):\n",
    "            yt_i_mean = np.dot(xt_i.T, w_mean)\n",
    "            yt_i_var = sn2 + np.dot(np.dot(xt_i.T, w_cov), xt_i)\n",
    "            return yt_i_mean, yt_i_var\n",
    "\n",
    "        yt_mean, yt_var = np.zeros(len(Xt)), np.zeros(len(Xt))\n",
    "        for i, xt_i in enumerate(Xt):  # Loop on all the points\n",
    "            yt_mean[i], yt_var[i] = _compute_predictive_single_point(\n",
    "                xt_i, w_mean, w_cov, sn2\n",
    "            )\n",
    "\n",
    "        return yt_mean, yt_var\n",
    "    \n",
    "    def sample(Xt, w_mean, w_cov, sn2, N):\n",
    "        def _sample_single(Xt, w_mean, w_cov, sn2):\n",
    "            w_posterior = np.random.multivariate_normal(w_mean, w_cov)\n",
    "            #noise = np.random.normal(0, sn2)\n",
    "            f = np.dot(Xt, w_posterior) #+ noise\n",
    "            return f \n",
    "\n",
    "        samples = np.zeros((N, len(Xt)))\n",
    "        for i in range(N):\n",
    "            samples[i] = _sample_single(Xt, w_mean, w_cov, sn2)\n",
    "        return samples\n",
    "\n",
    "\n",
    "    X = build_features(x, K) \n",
    "    Xt = build_features(xt, K)  \n",
    "    w_posterior_mean, w_posterior_cov = compute_posterior(X, y, sw2, sn2)\n",
    "    y_mean, y_var =  compute_predictive(Xt, w_posterior_mean, w_posterior_cov, sn2)\n",
    "    samples = sample(Xt, w_posterior_mean, w_posterior_cov, sn2, N=30)\n",
    "    return y_mean, y_var, samples"
   ]
  },
  {
   "cell_type": "code",
   "execution_count": 8,
   "id": "6c9f81d3",
   "metadata": {
    "execution": {
     "iopub.execute_input": "2022-05-08T21:52:06.454500Z",
     "iopub.status.busy": "2022-05-08T21:52:06.453686Z",
     "iopub.status.idle": "2022-05-08T21:52:06.457248Z",
     "shell.execute_reply": "2022-05-08T21:52:06.456713Z"
    },
    "papermill": {
     "duration": 0.030842,
     "end_time": "2022-05-08T21:52:06.458968",
     "exception": false,
     "start_time": "2022-05-08T21:52:06.428126",
     "status": "completed"
    },
    "tags": []
   },
   "outputs": [],
   "source": [
    "sn2 = 1\n",
    "sw2 = 1"
   ]
  },
  {
   "cell_type": "code",
   "execution_count": 9,
   "id": "2078f829",
   "metadata": {
    "execution": {
     "iopub.execute_input": "2022-05-08T21:52:06.509990Z",
     "iopub.status.busy": "2022-05-08T21:52:06.509709Z",
     "iopub.status.idle": "2022-05-08T21:52:06.514451Z",
     "shell.execute_reply": "2022-05-08T21:52:06.513834Z"
    },
    "papermill": {
     "duration": 0.032722,
     "end_time": "2022-05-08T21:52:06.516343",
     "exception": false,
     "start_time": "2022-05-08T21:52:06.483621",
     "status": "completed"
    },
    "tags": []
   },
   "outputs": [],
   "source": [
    "def lognormal(x, mu, var):\n",
    "    return - np.log(np.sqrt(2 * np.pi * var)) - (x - mu) ** 2 / (2 * var)\n",
    "\n",
    "def gaussian_loglik(y, y_tilde, sn2):\n",
    "    return np.sum(lognormal(y, y_tilde, sn2))"
   ]
  },
  {
   "cell_type": "code",
   "execution_count": 10,
   "id": "e8928a6e",
   "metadata": {
    "execution": {
     "iopub.execute_input": "2022-05-08T21:52:06.567892Z",
     "iopub.status.busy": "2022-05-08T21:52:06.567481Z",
     "iopub.status.idle": "2022-05-08T21:52:06.572212Z",
     "shell.execute_reply": "2022-05-08T21:52:06.571701Z"
    },
    "papermill": {
     "duration": 0.03268,
     "end_time": "2022-05-08T21:52:06.573963",
     "exception": false,
     "start_time": "2022-05-08T21:52:06.541283",
     "status": "completed"
    },
    "tags": []
   },
   "outputs": [],
   "source": [
    "def evaluate_likelihood(x, y, K, sn2, sw2):\n",
    "    y_mean, y_var, _ = bayesian_linear_regression(x, y, x, K, sn2, sw2)\n",
    "    \n",
    "    ll = gaussian_loglik(y, y_mean, y_var)\n",
    "    return ll"
   ]
  },
  {
   "cell_type": "code",
   "execution_count": 11,
   "id": "c23af6b2",
   "metadata": {
    "execution": {
     "iopub.execute_input": "2022-05-08T21:52:06.625301Z",
     "iopub.status.busy": "2022-05-08T21:52:06.624779Z",
     "iopub.status.idle": "2022-05-08T21:52:06.631118Z",
     "shell.execute_reply": "2022-05-08T21:52:06.630570Z"
    },
    "papermill": {
     "duration": 0.034235,
     "end_time": "2022-05-08T21:52:06.632947",
     "exception": false,
     "start_time": "2022-05-08T21:52:06.598712",
     "status": "completed"
    },
    "tags": []
   },
   "outputs": [],
   "source": [
    "def marginal_likelihood(X, y, sw2, sn2):\n",
    "    mu_zero = np.zeros(X.shape[1])\n",
    "    cov_zero =  sw2 * np.eye(X.shape[1])\n",
    "    mean = np.dot(X, mu_zero)\n",
    "    cov =  sn2 * np.eye(X.shape[0]) + np.dot(np.dot(X, cov_zero), X.T)\n",
    "    logpdf = scipy.stats.multivariate_normal.logpdf(y, mean,cov)\n",
    "    return  logpdf\n",
    "\n",
    "def evaluate_marginal_likelihood(x, y, K, sn2, sw2):\n",
    "    X = build_features(x, K)\n",
    "    return  marginal_likelihood(X, y, sw2, sn2)"
   ]
  },
  {
   "cell_type": "markdown",
   "id": "c9595e49",
   "metadata": {
    "papermill": {
     "duration": 0.024493,
     "end_time": "2022-05-08T21:52:06.681897",
     "exception": false,
     "start_time": "2022-05-08T21:52:06.657404",
     "status": "completed"
    },
    "tags": []
   },
   "source": [
    "**B.**(text) Describe any pre-processing that you suggest for this data"
   ]
  },
  {
   "cell_type": "markdown",
   "id": "2976e7ec",
   "metadata": {
    "papermill": {
     "duration": 0.024204,
     "end_time": "2022-05-08T21:52:06.730500",
     "exception": false,
     "start_time": "2022-05-08T21:52:06.706296",
     "status": "completed"
    },
    "tags": []
   },
   "source": [
    "## Scale the data"
   ]
  },
  {
   "cell_type": "code",
   "execution_count": 12,
   "id": "08126382",
   "metadata": {
    "execution": {
     "iopub.execute_input": "2022-05-08T21:52:06.781215Z",
     "iopub.status.busy": "2022-05-08T21:52:06.780724Z",
     "iopub.status.idle": "2022-05-08T21:52:07.104688Z",
     "shell.execute_reply": "2022-05-08T21:52:07.104007Z"
    },
    "papermill": {
     "duration": 0.352219,
     "end_time": "2022-05-08T21:52:07.107186",
     "exception": false,
     "start_time": "2022-05-08T21:52:06.754967",
     "status": "completed"
    },
    "tags": []
   },
   "outputs": [],
   "source": [
    "Xmean, Xstd = X_train.mean(0), X_train.std(0)\n",
    "X_train = (X_train - Xmean) / Xstd\n",
    "X_test = (X_test - Xmean) / Xstd"
   ]
  },
  {
   "cell_type": "markdown",
   "id": "5390f5d4",
   "metadata": {
    "papermill": {
     "duration": 0.024917,
     "end_time": "2022-05-08T21:52:07.157265",
     "exception": false,
     "start_time": "2022-05-08T21:52:07.132348",
     "status": "completed"
    },
    "tags": []
   },
   "source": [
    "## Dimensionality Reduction"
   ]
  },
  {
   "cell_type": "code",
   "execution_count": 13,
   "id": "49799ad8",
   "metadata": {
    "execution": {
     "iopub.execute_input": "2022-05-08T21:52:07.208212Z",
     "iopub.status.busy": "2022-05-08T21:52:07.207741Z",
     "iopub.status.idle": "2022-05-08T21:58:32.991081Z",
     "shell.execute_reply": "2022-05-08T21:58:32.990114Z"
    },
    "papermill": {
     "duration": 385.811847,
     "end_time": "2022-05-08T21:58:32.993655",
     "exception": false,
     "start_time": "2022-05-08T21:52:07.181808",
     "status": "completed"
    },
    "tags": []
   },
   "outputs": [],
   "source": [
    "sums = []\n",
    "for i in range(1, 200):\n",
    "    pca = PCA(n_components=i, svd_solver='full')\n",
    "    pca.fit_transform(X_train)\n",
    "    sums.append(np.sum(pca.explained_variance_ratio_))"
   ]
  },
  {
   "cell_type": "code",
   "execution_count": 14,
   "id": "603a98b9",
   "metadata": {
    "execution": {
     "iopub.execute_input": "2022-05-08T21:58:33.046260Z",
     "iopub.status.busy": "2022-05-08T21:58:33.045357Z",
     "iopub.status.idle": "2022-05-08T21:58:33.390195Z",
     "shell.execute_reply": "2022-05-08T21:58:33.389286Z"
    },
    "papermill": {
     "duration": 0.373302,
     "end_time": "2022-05-08T21:58:33.392715",
     "exception": false,
     "start_time": "2022-05-08T21:58:33.019413",
     "status": "completed"
    },
    "tags": []
   },
   "outputs": [
    {
     "data": {
      "image/png": "[encoded data removed]",
      "text/plain": [
       "<Figure size 1440x360 with 2 Axes>"
      ]
     },
     "metadata": {
      "needs_background": "light"
     },
     "output_type": "display_data"
    }
   ],
   "source": [
    "# PLOT THE RESULT\n",
    "plt.figure(figsize=(20,5))\n",
    "ticks = np.arange(1, len(sums)+1)\n",
    "plt.subplot(1,2,1)\n",
    "plt.title(\"Cumulative Variance Plot\", weight=\"semibold\", fontsize=16)\n",
    "plt.xlabel(\"Number of Principal Components\")\n",
    "plt.ylabel(\"Percentage\")\n",
    "plt.plot(ticks, sums, color=\"royalblue\")\n",
    "plt.subplot(1,2,2)\n",
    "plt.title(\"Scree Plot\", weight=\"semibold\", fontsize=16)\n",
    "plt.plot(ticks, pca.explained_variance_ratio_)\n",
    "plt.xlabel(\"Number of Principal Components\")\n",
    "plt.ylabel(\"Percentage\")\n",
    "plt.show()"
   ]
  },
  {
   "cell_type": "code",
   "execution_count": 15,
   "id": "210ea026",
   "metadata": {
    "execution": {
     "iopub.execute_input": "2022-05-08T21:58:33.448139Z",
     "iopub.status.busy": "2022-05-08T21:58:33.447838Z",
     "iopub.status.idle": "2022-05-08T21:58:33.452558Z",
     "shell.execute_reply": "2022-05-08T21:58:33.451654Z"
    },
    "papermill": {
     "duration": 0.034544,
     "end_time": "2022-05-08T21:58:33.454507",
     "exception": false,
     "start_time": "2022-05-08T21:58:33.419963",
     "status": "completed"
    },
    "tags": []
   },
   "outputs": [
    {
     "name": "stdout",
     "output_type": "stream",
     "text": [
      "0.8884061774929619\n"
     ]
    }
   ],
   "source": [
    "print(sums[175])"
   ]
  },
  {
   "cell_type": "code",
   "execution_count": 16,
   "id": "8bcb1215",
   "metadata": {
    "execution": {
     "iopub.execute_input": "2022-05-08T21:58:33.510041Z",
     "iopub.status.busy": "2022-05-08T21:58:33.509719Z",
     "iopub.status.idle": "2022-05-08T21:58:35.762442Z",
     "shell.execute_reply": "2022-05-08T21:58:35.761451Z"
    },
    "papermill": {
     "duration": 2.284873,
     "end_time": "2022-05-08T21:58:35.765778",
     "exception": false,
     "start_time": "2022-05-08T21:58:33.480905",
     "status": "completed"
    },
    "tags": []
   },
   "outputs": [],
   "source": [
    "pca = PCA(n_components=175, svd_solver='full')\n",
    "X_train = pca.fit_transform(X_train)\n",
    "X_test = pca.transform(X_test)"
   ]
  },
  {
   "cell_type": "markdown",
   "id": "29796b33",
   "metadata": {
    "papermill": {
     "duration": 0.048978,
     "end_time": "2022-05-08T21:58:35.864916",
     "exception": false,
     "start_time": "2022-05-08T21:58:35.815938",
     "status": "completed"
    },
    "tags": []
   },
   "source": [
    "## Unbalanced Class"
   ]
  },
  {
   "cell_type": "code",
   "execution_count": null,
   "id": "17374484",
   "metadata": {
    "papermill": {
     "duration": 0.025934,
     "end_time": "2022-05-08T21:58:35.920547",
     "exception": false,
     "start_time": "2022-05-08T21:58:35.894613",
     "status": "completed"
    },
    "tags": []
   },
   "outputs": [],
   "source": []
  }
 ],
 "metadata": {
  "kernelspec": {
   "display_name": "Python 3",
   "language": "python",
   "name": "python3"
  },
  "language_info": {
   "codemirror_mode": {
    "name": "ipython",
    "version": 3
   },
   "file_extension": ".py",
   "mimetype": "text/x-python",
   "name": "python",
   "nbconvert_exporter": "python",
   "pygments_lexer": "ipython3",
   "version": "3.7.12"
  },
  "papermill": {
   "default_parameters": {},
   "duration": 413.857062,
   "end_time": "2022-05-08T21:58:36.768934",
   "environment_variables": {},
   "exception": null,
   "input_path": "__notebook__.ipynb",
   "output_path": "__notebook__.ipynb",
   "parameters": {},
   "start_time": "2022-05-08T21:51:42.911872",
   "version": "2.3.4"
  }
 },
 "nbformat": 4,
 "nbformat_minor": 5
}
